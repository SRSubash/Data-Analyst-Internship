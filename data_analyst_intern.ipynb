{
  "nbformat": 4,
  "nbformat_minor": 0,
  "metadata": {
    "colab": {
      "provenance": [],
      "authorship_tag": "ABX9TyP3EMuHl/uL6tDyudel1FT6",
      "include_colab_link": true
    },
    "kernelspec": {
      "name": "python3",
      "display_name": "Python 3"
    },
    "language_info": {
      "name": "python"
    }
  },
  "cells": [
    {
      "cell_type": "markdown",
      "metadata": {
        "id": "view-in-github",
        "colab_type": "text"
      },
      "source": [
        "<a href=\"https://colab.research.google.com/github/SRSubash/Data-Analyst-Internship/blob/main/data_analyst_intern.ipynb\" target=\"_parent\"><img src=\"https://colab.research.google.com/assets/colab-badge.svg\" alt=\"Open In Colab\"/></a>"
      ]
    },
    {
      "cell_type": "code",
      "execution_count": 45,
      "metadata": {
        "colab": {
          "base_uri": "https://localhost:8080/",
          "height": 660
        },
        "id": "K6xmmTY8w-Eu",
        "outputId": "b36d7f8c-0e27-400f-be56-2f5f277a125e"
      },
      "outputs": [
        {
          "output_type": "execute_result",
          "data": {
            "text/plain": [
              "   year   make                model        trim   body transmission  \\\n",
              "0  2015    Kia              Sorento          LX    SUV    automatic   \n",
              "1  2015    Kia              Sorento          LX    SUV    automatic   \n",
              "2  2014    BMW             3 Series  328i SULEV  Sedan    automatic   \n",
              "3  2015  Volvo                  S60          T5  Sedan    automatic   \n",
              "4  2014    BMW  6 Series Gran Coupe        650i  Sedan    automatic   \n",
              "\n",
              "                 vin state  condition  odometer  color interior  \\\n",
              "0  5xyktca69fg566472    ca        5.0   16639.0  white    black   \n",
              "1  5xyktca69fg561319    ca        5.0    9393.0  white    beige   \n",
              "2  wba3c1c51ek116351    ca       45.0    1331.0   gray    black   \n",
              "3  yv1612tb4f1310987    ca       41.0   14282.0  white    black   \n",
              "4  wba6b2c57ed129731    ca       43.0    2641.0   gray    black   \n",
              "\n",
              "                                   seller      mmr  sellingprice  \\\n",
              "0                 kia motors america  inc  20500.0       21500.0   \n",
              "1                 kia motors america  inc  20800.0       21500.0   \n",
              "2  financial services remarketing (lease)  31900.0       30000.0   \n",
              "3                 volvo na rep/world omni  27500.0       27750.0   \n",
              "4  financial services remarketing (lease)  66000.0       67000.0   \n",
              "\n",
              "                                  saledate  \n",
              "0  Tue Dec 16 2014 12:30:00 GMT-0800 (PST)  \n",
              "1  Tue Dec 16 2014 12:30:00 GMT-0800 (PST)  \n",
              "2  Thu Jan 15 2015 04:30:00 GMT-0800 (PST)  \n",
              "3  Thu Jan 29 2015 04:30:00 GMT-0800 (PST)  \n",
              "4  Thu Dec 18 2014 12:30:00 GMT-0800 (PST)  "
            ],
            "text/html": [
              "\n",
              "  <div id=\"df-99d42d6d-42b1-4a39-b356-f6f57e31effd\" class=\"colab-df-container\">\n",
              "    <div>\n",
              "<style scoped>\n",
              "    .dataframe tbody tr th:only-of-type {\n",
              "        vertical-align: middle;\n",
              "    }\n",
              "\n",
              "    .dataframe tbody tr th {\n",
              "        vertical-align: top;\n",
              "    }\n",
              "\n",
              "    .dataframe thead th {\n",
              "        text-align: right;\n",
              "    }\n",
              "</style>\n",
              "<table border=\"1\" class=\"dataframe\">\n",
              "  <thead>\n",
              "    <tr style=\"text-align: right;\">\n",
              "      <th></th>\n",
              "      <th>year</th>\n",
              "      <th>make</th>\n",
              "      <th>model</th>\n",
              "      <th>trim</th>\n",
              "      <th>body</th>\n",
              "      <th>transmission</th>\n",
              "      <th>vin</th>\n",
              "      <th>state</th>\n",
              "      <th>condition</th>\n",
              "      <th>odometer</th>\n",
              "      <th>color</th>\n",
              "      <th>interior</th>\n",
              "      <th>seller</th>\n",
              "      <th>mmr</th>\n",
              "      <th>sellingprice</th>\n",
              "      <th>saledate</th>\n",
              "    </tr>\n",
              "  </thead>\n",
              "  <tbody>\n",
              "    <tr>\n",
              "      <th>0</th>\n",
              "      <td>2015</td>\n",
              "      <td>Kia</td>\n",
              "      <td>Sorento</td>\n",
              "      <td>LX</td>\n",
              "      <td>SUV</td>\n",
              "      <td>automatic</td>\n",
              "      <td>5xyktca69fg566472</td>\n",
              "      <td>ca</td>\n",
              "      <td>5.0</td>\n",
              "      <td>16639.0</td>\n",
              "      <td>white</td>\n",
              "      <td>black</td>\n",
              "      <td>kia motors america  inc</td>\n",
              "      <td>20500.0</td>\n",
              "      <td>21500.0</td>\n",
              "      <td>Tue Dec 16 2014 12:30:00 GMT-0800 (PST)</td>\n",
              "    </tr>\n",
              "    <tr>\n",
              "      <th>1</th>\n",
              "      <td>2015</td>\n",
              "      <td>Kia</td>\n",
              "      <td>Sorento</td>\n",
              "      <td>LX</td>\n",
              "      <td>SUV</td>\n",
              "      <td>automatic</td>\n",
              "      <td>5xyktca69fg561319</td>\n",
              "      <td>ca</td>\n",
              "      <td>5.0</td>\n",
              "      <td>9393.0</td>\n",
              "      <td>white</td>\n",
              "      <td>beige</td>\n",
              "      <td>kia motors america  inc</td>\n",
              "      <td>20800.0</td>\n",
              "      <td>21500.0</td>\n",
              "      <td>Tue Dec 16 2014 12:30:00 GMT-0800 (PST)</td>\n",
              "    </tr>\n",
              "    <tr>\n",
              "      <th>2</th>\n",
              "      <td>2014</td>\n",
              "      <td>BMW</td>\n",
              "      <td>3 Series</td>\n",
              "      <td>328i SULEV</td>\n",
              "      <td>Sedan</td>\n",
              "      <td>automatic</td>\n",
              "      <td>wba3c1c51ek116351</td>\n",
              "      <td>ca</td>\n",
              "      <td>45.0</td>\n",
              "      <td>1331.0</td>\n",
              "      <td>gray</td>\n",
              "      <td>black</td>\n",
              "      <td>financial services remarketing (lease)</td>\n",
              "      <td>31900.0</td>\n",
              "      <td>30000.0</td>\n",
              "      <td>Thu Jan 15 2015 04:30:00 GMT-0800 (PST)</td>\n",
              "    </tr>\n",
              "    <tr>\n",
              "      <th>3</th>\n",
              "      <td>2015</td>\n",
              "      <td>Volvo</td>\n",
              "      <td>S60</td>\n",
              "      <td>T5</td>\n",
              "      <td>Sedan</td>\n",
              "      <td>automatic</td>\n",
              "      <td>yv1612tb4f1310987</td>\n",
              "      <td>ca</td>\n",
              "      <td>41.0</td>\n",
              "      <td>14282.0</td>\n",
              "      <td>white</td>\n",
              "      <td>black</td>\n",
              "      <td>volvo na rep/world omni</td>\n",
              "      <td>27500.0</td>\n",
              "      <td>27750.0</td>\n",
              "      <td>Thu Jan 29 2015 04:30:00 GMT-0800 (PST)</td>\n",
              "    </tr>\n",
              "    <tr>\n",
              "      <th>4</th>\n",
              "      <td>2014</td>\n",
              "      <td>BMW</td>\n",
              "      <td>6 Series Gran Coupe</td>\n",
              "      <td>650i</td>\n",
              "      <td>Sedan</td>\n",
              "      <td>automatic</td>\n",
              "      <td>wba6b2c57ed129731</td>\n",
              "      <td>ca</td>\n",
              "      <td>43.0</td>\n",
              "      <td>2641.0</td>\n",
              "      <td>gray</td>\n",
              "      <td>black</td>\n",
              "      <td>financial services remarketing (lease)</td>\n",
              "      <td>66000.0</td>\n",
              "      <td>67000.0</td>\n",
              "      <td>Thu Dec 18 2014 12:30:00 GMT-0800 (PST)</td>\n",
              "    </tr>\n",
              "  </tbody>\n",
              "</table>\n",
              "</div>\n",
              "    <div class=\"colab-df-buttons\">\n",
              "\n",
              "  <div class=\"colab-df-container\">\n",
              "    <button class=\"colab-df-convert\" onclick=\"convertToInteractive('df-99d42d6d-42b1-4a39-b356-f6f57e31effd')\"\n",
              "            title=\"Convert this dataframe to an interactive table.\"\n",
              "            style=\"display:none;\">\n",
              "\n",
              "  <svg xmlns=\"http://www.w3.org/2000/svg\" height=\"24px\" viewBox=\"0 -960 960 960\">\n",
              "    <path d=\"M120-120v-720h720v720H120Zm60-500h600v-160H180v160Zm220 220h160v-160H400v160Zm0 220h160v-160H400v160ZM180-400h160v-160H180v160Zm440 0h160v-160H620v160ZM180-180h160v-160H180v160Zm440 0h160v-160H620v160Z\"/>\n",
              "  </svg>\n",
              "    </button>\n",
              "\n",
              "  <style>\n",
              "    .colab-df-container {\n",
              "      display:flex;\n",
              "      gap: 12px;\n",
              "    }\n",
              "\n",
              "    .colab-df-convert {\n",
              "      background-color: #E8F0FE;\n",
              "      border: none;\n",
              "      border-radius: 50%;\n",
              "      cursor: pointer;\n",
              "      display: none;\n",
              "      fill: #1967D2;\n",
              "      height: 32px;\n",
              "      padding: 0 0 0 0;\n",
              "      width: 32px;\n",
              "    }\n",
              "\n",
              "    .colab-df-convert:hover {\n",
              "      background-color: #E2EBFA;\n",
              "      box-shadow: 0px 1px 2px rgba(60, 64, 67, 0.3), 0px 1px 3px 1px rgba(60, 64, 67, 0.15);\n",
              "      fill: #174EA6;\n",
              "    }\n",
              "\n",
              "    .colab-df-buttons div {\n",
              "      margin-bottom: 4px;\n",
              "    }\n",
              "\n",
              "    [theme=dark] .colab-df-convert {\n",
              "      background-color: #3B4455;\n",
              "      fill: #D2E3FC;\n",
              "    }\n",
              "\n",
              "    [theme=dark] .colab-df-convert:hover {\n",
              "      background-color: #434B5C;\n",
              "      box-shadow: 0px 1px 3px 1px rgba(0, 0, 0, 0.15);\n",
              "      filter: drop-shadow(0px 1px 2px rgba(0, 0, 0, 0.3));\n",
              "      fill: #FFFFFF;\n",
              "    }\n",
              "  </style>\n",
              "\n",
              "    <script>\n",
              "      const buttonEl =\n",
              "        document.querySelector('#df-99d42d6d-42b1-4a39-b356-f6f57e31effd button.colab-df-convert');\n",
              "      buttonEl.style.display =\n",
              "        google.colab.kernel.accessAllowed ? 'block' : 'none';\n",
              "\n",
              "      async function convertToInteractive(key) {\n",
              "        const element = document.querySelector('#df-99d42d6d-42b1-4a39-b356-f6f57e31effd');\n",
              "        const dataTable =\n",
              "          await google.colab.kernel.invokeFunction('convertToInteractive',\n",
              "                                                    [key], {});\n",
              "        if (!dataTable) return;\n",
              "\n",
              "        const docLinkHtml = 'Like what you see? Visit the ' +\n",
              "          '<a target=\"_blank\" href=https://colab.research.google.com/notebooks/data_table.ipynb>data table notebook</a>'\n",
              "          + ' to learn more about interactive tables.';\n",
              "        element.innerHTML = '';\n",
              "        dataTable['output_type'] = 'display_data';\n",
              "        await google.colab.output.renderOutput(dataTable, element);\n",
              "        const docLink = document.createElement('div');\n",
              "        docLink.innerHTML = docLinkHtml;\n",
              "        element.appendChild(docLink);\n",
              "      }\n",
              "    </script>\n",
              "  </div>\n",
              "\n",
              "\n",
              "    <div id=\"df-ac26ebaf-e8cf-43fa-8606-2765f0044928\">\n",
              "      <button class=\"colab-df-quickchart\" onclick=\"quickchart('df-ac26ebaf-e8cf-43fa-8606-2765f0044928')\"\n",
              "                title=\"Suggest charts\"\n",
              "                style=\"display:none;\">\n",
              "\n",
              "<svg xmlns=\"http://www.w3.org/2000/svg\" height=\"24px\"viewBox=\"0 0 24 24\"\n",
              "     width=\"24px\">\n",
              "    <g>\n",
              "        <path d=\"M19 3H5c-1.1 0-2 .9-2 2v14c0 1.1.9 2 2 2h14c1.1 0 2-.9 2-2V5c0-1.1-.9-2-2-2zM9 17H7v-7h2v7zm4 0h-2V7h2v10zm4 0h-2v-4h2v4z\"/>\n",
              "    </g>\n",
              "</svg>\n",
              "      </button>\n",
              "\n",
              "<style>\n",
              "  .colab-df-quickchart {\n",
              "      --bg-color: #E8F0FE;\n",
              "      --fill-color: #1967D2;\n",
              "      --hover-bg-color: #E2EBFA;\n",
              "      --hover-fill-color: #174EA6;\n",
              "      --disabled-fill-color: #AAA;\n",
              "      --disabled-bg-color: #DDD;\n",
              "  }\n",
              "\n",
              "  [theme=dark] .colab-df-quickchart {\n",
              "      --bg-color: #3B4455;\n",
              "      --fill-color: #D2E3FC;\n",
              "      --hover-bg-color: #434B5C;\n",
              "      --hover-fill-color: #FFFFFF;\n",
              "      --disabled-bg-color: #3B4455;\n",
              "      --disabled-fill-color: #666;\n",
              "  }\n",
              "\n",
              "  .colab-df-quickchart {\n",
              "    background-color: var(--bg-color);\n",
              "    border: none;\n",
              "    border-radius: 50%;\n",
              "    cursor: pointer;\n",
              "    display: none;\n",
              "    fill: var(--fill-color);\n",
              "    height: 32px;\n",
              "    padding: 0;\n",
              "    width: 32px;\n",
              "  }\n",
              "\n",
              "  .colab-df-quickchart:hover {\n",
              "    background-color: var(--hover-bg-color);\n",
              "    box-shadow: 0 1px 2px rgba(60, 64, 67, 0.3), 0 1px 3px 1px rgba(60, 64, 67, 0.15);\n",
              "    fill: var(--button-hover-fill-color);\n",
              "  }\n",
              "\n",
              "  .colab-df-quickchart-complete:disabled,\n",
              "  .colab-df-quickchart-complete:disabled:hover {\n",
              "    background-color: var(--disabled-bg-color);\n",
              "    fill: var(--disabled-fill-color);\n",
              "    box-shadow: none;\n",
              "  }\n",
              "\n",
              "  .colab-df-spinner {\n",
              "    border: 2px solid var(--fill-color);\n",
              "    border-color: transparent;\n",
              "    border-bottom-color: var(--fill-color);\n",
              "    animation:\n",
              "      spin 1s steps(1) infinite;\n",
              "  }\n",
              "\n",
              "  @keyframes spin {\n",
              "    0% {\n",
              "      border-color: transparent;\n",
              "      border-bottom-color: var(--fill-color);\n",
              "      border-left-color: var(--fill-color);\n",
              "    }\n",
              "    20% {\n",
              "      border-color: transparent;\n",
              "      border-left-color: var(--fill-color);\n",
              "      border-top-color: var(--fill-color);\n",
              "    }\n",
              "    30% {\n",
              "      border-color: transparent;\n",
              "      border-left-color: var(--fill-color);\n",
              "      border-top-color: var(--fill-color);\n",
              "      border-right-color: var(--fill-color);\n",
              "    }\n",
              "    40% {\n",
              "      border-color: transparent;\n",
              "      border-right-color: var(--fill-color);\n",
              "      border-top-color: var(--fill-color);\n",
              "    }\n",
              "    60% {\n",
              "      border-color: transparent;\n",
              "      border-right-color: var(--fill-color);\n",
              "    }\n",
              "    80% {\n",
              "      border-color: transparent;\n",
              "      border-right-color: var(--fill-color);\n",
              "      border-bottom-color: var(--fill-color);\n",
              "    }\n",
              "    90% {\n",
              "      border-color: transparent;\n",
              "      border-bottom-color: var(--fill-color);\n",
              "    }\n",
              "  }\n",
              "</style>\n",
              "\n",
              "      <script>\n",
              "        async function quickchart(key) {\n",
              "          const quickchartButtonEl =\n",
              "            document.querySelector('#' + key + ' button');\n",
              "          quickchartButtonEl.disabled = true;  // To prevent multiple clicks.\n",
              "          quickchartButtonEl.classList.add('colab-df-spinner');\n",
              "          try {\n",
              "            const charts = await google.colab.kernel.invokeFunction(\n",
              "                'suggestCharts', [key], {});\n",
              "          } catch (error) {\n",
              "            console.error('Error during call to suggestCharts:', error);\n",
              "          }\n",
              "          quickchartButtonEl.classList.remove('colab-df-spinner');\n",
              "          quickchartButtonEl.classList.add('colab-df-quickchart-complete');\n",
              "        }\n",
              "        (() => {\n",
              "          let quickchartButtonEl =\n",
              "            document.querySelector('#df-ac26ebaf-e8cf-43fa-8606-2765f0044928 button');\n",
              "          quickchartButtonEl.style.display =\n",
              "            google.colab.kernel.accessAllowed ? 'block' : 'none';\n",
              "        })();\n",
              "      </script>\n",
              "    </div>\n",
              "\n",
              "    </div>\n",
              "  </div>\n"
            ],
            "application/vnd.google.colaboratory.intrinsic+json": {
              "type": "dataframe",
              "variable_name": "df"
            }
          },
          "metadata": {},
          "execution_count": 45
        }
      ],
      "source": [
        "import pandas as pd\n",
        "file_path =\"/content/car_prices.csv\"\n",
        "df = pd.read_csv(file_path)\n",
        "df.head()\n"
      ]
    },
    {
      "cell_type": "code",
      "source": [
        "print(\"Dataset shape:\", df.shape)\n"
      ],
      "metadata": {
        "colab": {
          "base_uri": "https://localhost:8080/"
        },
        "id": "N4aPLdXPzbJm",
        "outputId": "5c6cbe51-5c67-4e69-c0ad-146c59a70e7c"
      },
      "execution_count": 46,
      "outputs": [
        {
          "output_type": "stream",
          "name": "stdout",
          "text": [
            "Dataset shape: (558837, 16)\n"
          ]
        }
      ]
    },
    {
      "cell_type": "code",
      "source": [
        "print(df.dtypes)"
      ],
      "metadata": {
        "colab": {
          "base_uri": "https://localhost:8080/"
        },
        "id": "jUKytrsjzwnX",
        "outputId": "bb4e6b31-b7f2-4157-f09e-7062e60364f4"
      },
      "execution_count": 47,
      "outputs": [
        {
          "output_type": "stream",
          "name": "stdout",
          "text": [
            "year              int64\n",
            "make             object\n",
            "model            object\n",
            "trim             object\n",
            "body             object\n",
            "transmission     object\n",
            "vin              object\n",
            "state            object\n",
            "condition       float64\n",
            "odometer        float64\n",
            "color            object\n",
            "interior         object\n",
            "seller           object\n",
            "mmr             float64\n",
            "sellingprice    float64\n",
            "saledate         object\n",
            "dtype: object\n"
          ]
        }
      ]
    },
    {
      "cell_type": "code",
      "source": [
        "print(df.isnull().sum())"
      ],
      "metadata": {
        "colab": {
          "base_uri": "https://localhost:8080/"
        },
        "id": "H9GwIElUz4c6",
        "outputId": "be7b966f-4355-49b3-9aa4-5c12894cfa8a"
      },
      "execution_count": 49,
      "outputs": [
        {
          "output_type": "stream",
          "name": "stdout",
          "text": [
            "year                0\n",
            "make            10301\n",
            "model           10399\n",
            "trim            10651\n",
            "body            13195\n",
            "transmission    65352\n",
            "vin                 4\n",
            "state               0\n",
            "condition       11820\n",
            "odometer           94\n",
            "color             749\n",
            "interior          749\n",
            "seller              0\n",
            "mmr                38\n",
            "sellingprice       12\n",
            "saledate           12\n",
            "dtype: int64\n"
          ]
        }
      ]
    },
    {
      "cell_type": "code",
      "source": [
        "print(df.describe(include='all'))"
      ],
      "metadata": {
        "colab": {
          "base_uri": "https://localhost:8080/"
        },
        "id": "8Mk2ORs-0DrA",
        "outputId": "159f56fb-e8f8-4e22-b57e-cc1d6dfad703"
      },
      "execution_count": 50,
      "outputs": [
        {
          "output_type": "stream",
          "name": "stdout",
          "text": [
            "                 year    make   model    trim    body transmission        vin  \\\n",
            "count   558837.000000  548536  548438  548186  545642       493485     558833   \n",
            "unique            NaN      96     973    1963      87            4     550297   \n",
            "top               NaN    Ford  Altima    Base   Sedan    automatic  automatic   \n",
            "freq              NaN   93554   19349   55817  199437       475915         22   \n",
            "mean      2010.038927     NaN     NaN     NaN     NaN          NaN        NaN   \n",
            "std          3.966864     NaN     NaN     NaN     NaN          NaN        NaN   \n",
            "min       1982.000000     NaN     NaN     NaN     NaN          NaN        NaN   \n",
            "25%       2007.000000     NaN     NaN     NaN     NaN          NaN        NaN   \n",
            "50%       2012.000000     NaN     NaN     NaN     NaN          NaN        NaN   \n",
            "75%       2013.000000     NaN     NaN     NaN     NaN          NaN        NaN   \n",
            "max       2015.000000     NaN     NaN     NaN     NaN          NaN        NaN   \n",
            "\n",
            "         state      condition       odometer   color interior  \\\n",
            "count   558837  547017.000000  558743.000000  558088   558088   \n",
            "unique      64            NaN            NaN      46       17   \n",
            "top         fl            NaN            NaN   black    black   \n",
            "freq     82945            NaN            NaN  110970   244329   \n",
            "mean       NaN      30.672365   68320.017767     NaN      NaN   \n",
            "std        NaN      13.402832   53398.542821     NaN      NaN   \n",
            "min        NaN       1.000000       1.000000     NaN      NaN   \n",
            "25%        NaN      23.000000   28371.000000     NaN      NaN   \n",
            "50%        NaN      35.000000   52254.000000     NaN      NaN   \n",
            "75%        NaN      42.000000   99109.000000     NaN      NaN   \n",
            "max        NaN      49.000000  999999.000000     NaN      NaN   \n",
            "\n",
            "                    seller            mmr   sellingprice  \\\n",
            "count               558837  558799.000000  558825.000000   \n",
            "unique               14263            NaN            NaN   \n",
            "top     nissan-infiniti lt            NaN            NaN   \n",
            "freq                 19693            NaN            NaN   \n",
            "mean                   NaN   13769.377495   13611.358810   \n",
            "std                    NaN    9679.967174    9749.501628   \n",
            "min                    NaN      25.000000       1.000000   \n",
            "25%                    NaN    7100.000000    6900.000000   \n",
            "50%                    NaN   12250.000000   12100.000000   \n",
            "75%                    NaN   18300.000000   18200.000000   \n",
            "max                    NaN  182000.000000  230000.000000   \n",
            "\n",
            "                                       saledate  \n",
            "count                                    558825  \n",
            "unique                                     3766  \n",
            "top     Tue Feb 10 2015 01:30:00 GMT-0800 (PST)  \n",
            "freq                                       5334  \n",
            "mean                                        NaN  \n",
            "std                                         NaN  \n",
            "min                                         NaN  \n",
            "25%                                         NaN  \n",
            "50%                                         NaN  \n",
            "75%                                         NaN  \n",
            "max                                         NaN  \n"
          ]
        }
      ]
    },
    {
      "cell_type": "code",
      "source": [
        "for col in df.columns:\n",
        "    if df[col].dtype == 'object':\n",
        "        df[col] = df[col].fillna(df[col].mode()[0])\n",
        "    else:\n",
        "        df[col] = df[col].fillna(df[col].mean())\n",
        "\n"
      ],
      "metadata": {
        "id": "-1xVEEJH0Nyi"
      },
      "execution_count": 51,
      "outputs": []
    },
    {
      "cell_type": "code",
      "source": [
        "for col in df.columns:\n",
        "    if df[col].dtype in ['float64', 'int64']:\n",
        "        df[col] = df[col].fillna(df[col].mean())\n",
        "    else:\n",
        "        df[col] = df[col].fillna(df[col].mode()[0])\n"
      ],
      "metadata": {
        "id": "2Uo_YOyA1OU4"
      },
      "execution_count": 52,
      "outputs": []
    },
    {
      "cell_type": "code",
      "source": [
        "print(df_cleaned.isnull().sum())"
      ],
      "metadata": {
        "colab": {
          "base_uri": "https://localhost:8080/"
        },
        "id": "xOXDBNFr1KiS",
        "outputId": "489a38d5-4d87-4c96-f318-ba29c5177e7a"
      },
      "execution_count": 53,
      "outputs": [
        {
          "output_type": "stream",
          "name": "stdout",
          "text": [
            "Year                  0\n",
            "Make                  0\n",
            "Model                 0\n",
            "Trim                  0\n",
            "Body                  0\n",
            "Transmission          0\n",
            "Vin                   0\n",
            "State                 0\n",
            "Condition             0\n",
            "Odometer              0\n",
            "Color                 0\n",
            "Interior              0\n",
            "Seller                0\n",
            "Mmr                   0\n",
            "Sellingprice          0\n",
            "Saledate              0\n",
            "Saledate_Formatted    0\n",
            "dtype: int64\n"
          ]
        }
      ]
    },
    {
      "cell_type": "code",
      "source": [
        "print(df.isnull().sum())\n"
      ],
      "metadata": {
        "colab": {
          "base_uri": "https://localhost:8080/"
        },
        "id": "e3uBtXI-1t88",
        "outputId": "04cc7c84-1c41-4c57-9ab3-d04496cf75d0"
      },
      "execution_count": 54,
      "outputs": [
        {
          "output_type": "stream",
          "name": "stdout",
          "text": [
            "year            0\n",
            "make            0\n",
            "model           0\n",
            "trim            0\n",
            "body            0\n",
            "transmission    0\n",
            "vin             0\n",
            "state           0\n",
            "condition       0\n",
            "odometer        0\n",
            "color           0\n",
            "interior        0\n",
            "seller          0\n",
            "mmr             0\n",
            "sellingprice    0\n",
            "saledate        0\n",
            "dtype: int64\n"
          ]
        }
      ]
    },
    {
      "cell_type": "code",
      "source": [
        "df_cleaned = df.copy()\n"
      ],
      "metadata": {
        "id": "DXacdye_1veT"
      },
      "execution_count": 55,
      "outputs": []
    },
    {
      "cell_type": "code",
      "source": [
        "print(df_cleaned.drop_duplicates())"
      ],
      "metadata": {
        "colab": {
          "base_uri": "https://localhost:8080/"
        },
        "id": "W74nPYXE2GWX",
        "outputId": "054a33e7-a5fb-455b-f376-5f6ddfd175c5"
      },
      "execution_count": 56,
      "outputs": [
        {
          "output_type": "stream",
          "name": "stdout",
          "text": [
            "        year    make                model         trim       body  \\\n",
            "0       2015     Kia              Sorento           LX        SUV   \n",
            "1       2015     Kia              Sorento           LX        SUV   \n",
            "2       2014     BMW             3 Series   328i SULEV      Sedan   \n",
            "3       2015   Volvo                  S60           T5      Sedan   \n",
            "4       2014     BMW  6 Series Gran Coupe         650i      Sedan   \n",
            "...      ...     ...                  ...          ...        ...   \n",
            "558832  2015     Kia                 K900       Luxury      Sedan   \n",
            "558833  2012     Ram                 2500  Power Wagon   Crew Cab   \n",
            "558834  2012     BMW                   X5    xDrive35d        SUV   \n",
            "558835  2015  Nissan               Altima        2.5 S      sedan   \n",
            "558836  2014    Ford                F-150          XLT  SuperCrew   \n",
            "\n",
            "       transmission                vin state  condition  odometer   color  \\\n",
            "0         automatic  5xyktca69fg566472    ca        5.0   16639.0   white   \n",
            "1         automatic  5xyktca69fg561319    ca        5.0    9393.0   white   \n",
            "2         automatic  wba3c1c51ek116351    ca       45.0    1331.0    gray   \n",
            "3         automatic  yv1612tb4f1310987    ca       41.0   14282.0   white   \n",
            "4         automatic  wba6b2c57ed129731    ca       43.0    2641.0    gray   \n",
            "...             ...                ...   ...        ...       ...     ...   \n",
            "558832    automatic  knalw4d4xf6019304    in       45.0   18255.0  silver   \n",
            "558833    automatic  3c6td5et6cg112407    wa        5.0   54393.0   white   \n",
            "558834    automatic  5uxzw0c58cl668465    ca       48.0   50561.0   black   \n",
            "558835    automatic  1n4al3ap0fc216050    ga       38.0   16658.0   white   \n",
            "558836    automatic  1ftfw1et2eke87277    ca       34.0   15008.0    gray   \n",
            "\n",
            "       interior                                             seller      mmr  \\\n",
            "0         black                            kia motors america  inc  20500.0   \n",
            "1         beige                            kia motors america  inc  20800.0   \n",
            "2         black             financial services remarketing (lease)  31900.0   \n",
            "3         black                            volvo na rep/world omni  27500.0   \n",
            "4         black             financial services remarketing (lease)  66000.0   \n",
            "...         ...                                                ...      ...   \n",
            "558832    black                                   avis corporation  35300.0   \n",
            "558833    black                                    i -5 uhlmann rv  30200.0   \n",
            "558834    black             financial services remarketing (lease)  29800.0   \n",
            "558835    black  enterprise vehicle exchange / tra / rental / t...  15100.0   \n",
            "558836     gray                   ford motor credit company llc pd  29600.0   \n",
            "\n",
            "        sellingprice                                 saledate  \n",
            "0            21500.0  Tue Dec 16 2014 12:30:00 GMT-0800 (PST)  \n",
            "1            21500.0  Tue Dec 16 2014 12:30:00 GMT-0800 (PST)  \n",
            "2            30000.0  Thu Jan 15 2015 04:30:00 GMT-0800 (PST)  \n",
            "3            27750.0  Thu Jan 29 2015 04:30:00 GMT-0800 (PST)  \n",
            "4            67000.0  Thu Dec 18 2014 12:30:00 GMT-0800 (PST)  \n",
            "...              ...                                      ...  \n",
            "558832       33000.0  Thu Jul 09 2015 07:00:00 GMT-0700 (PDT)  \n",
            "558833       30800.0  Wed Jul 08 2015 09:30:00 GMT-0700 (PDT)  \n",
            "558834       34000.0  Wed Jul 08 2015 09:30:00 GMT-0700 (PDT)  \n",
            "558835       11100.0  Thu Jul 09 2015 06:45:00 GMT-0700 (PDT)  \n",
            "558836       26700.0  Thu May 28 2015 05:30:00 GMT-0700 (PDT)  \n",
            "\n",
            "[558837 rows x 16 columns]\n"
          ]
        }
      ]
    },
    {
      "cell_type": "code",
      "source": [
        "df_cleaned['model'] = df_cleaned['model'].str.lower().str.strip()\n",
        "df_cleaned['make'] = df_cleaned['make'].str.title().str.strip()\n"
      ],
      "metadata": {
        "id": "h1xq4W1m2s0V"
      },
      "execution_count": 57,
      "outputs": []
    },
    {
      "cell_type": "code",
      "source": [
        "df_cleaned['year'] = df_cleaned['year'].astype(int)\n",
        "\n"
      ],
      "metadata": {
        "id": "HSA3jUQc3egl"
      },
      "execution_count": 58,
      "outputs": []
    },
    {
      "cell_type": "code",
      "source": [
        "\n",
        "df_cleaned.columns = df_cleaned.columns.str.strip()\n",
        "df_cleaned['saledate'] = pd.to_datetime(df_cleaned['saledate'], errors='coerce', utc=True)\n",
        "df_cleaned['saledate'] = df_cleaned['saledate'].dt.strftime(\"%d-%m-%Y\")\n",
        "print(df_cleaned[df_cleaned['saledate'].isna()])\n",
        "\n",
        "\n"
      ],
      "metadata": {
        "colab": {
          "base_uri": "https://localhost:8080/"
        },
        "id": "DbM3Yiwx9Boh",
        "outputId": "96ce4724-211b-4c05-8f01-3d34dbcd95e7"
      },
      "execution_count": 59,
      "outputs": [
        {
          "output_type": "stream",
          "name": "stderr",
          "text": [
            "/tmp/ipython-input-1130408790.py:2: UserWarning: Could not infer format, so each element will be parsed individually, falling back to `dateutil`. To ensure parsing is consistent and as-expected, please specify a format.\n",
            "  df_cleaned['saledate'] = pd.to_datetime(df_cleaned['saledate'], errors='coerce', utc=True)\n"
          ]
        },
        {
          "output_type": "stream",
          "name": "stdout",
          "text": [
            "        year        make  model                    trim         body  \\\n",
            "408161  2015  Volkswagen  jetta  SE PZEV w/Connectivity  Navitgation   \n",
            "417835  2015  Volkswagen  jetta  SE PZEV w/Connectivity  Navitgation   \n",
            "421289  2015  Volkswagen  jetta  SE PZEV w/Connectivity  Navitgation   \n",
            "424161  2015  Volkswagen  jetta  SE PZEV w/Connectivity  Navitgation   \n",
            "427040  2015  Volkswagen  jetta  SE PZEV w/Connectivity  Navitgation   \n",
            "427043  2015  Volkswagen  jetta  SE PZEV w/Connectivity  Navitgation   \n",
            "434424  2015  Volkswagen  jetta  SE PZEV w/Connectivity  Navitgation   \n",
            "444501  2015  Volkswagen  jetta  SE PZEV w/Connectivity  Navitgation   \n",
            "453794  2015  Volkswagen  jetta  SE PZEV w/Connectivity  Navitgation   \n",
            "461597  2015  Volkswagen  jetta  SE PZEV w/Connectivity  Navitgation   \n",
            "461612  2015  Volkswagen  jetta  SE PZEV w/Connectivity  Navitgation   \n",
            "492484  2015  Volkswagen  jetta  SE PZEV w/Connectivity  Navitgation   \n",
            "497008  2015  Volkswagen  jetta  SE PZEV w/Connectivity  Navitgation   \n",
            "497011  2015  Volkswagen  jetta  SE PZEV w/Connectivity  Navitgation   \n",
            "499083  2015  Volkswagen  jetta  SE PZEV w/Connectivity  Navitgation   \n",
            "501455  2015  Volkswagen  jetta  SE PZEV w/Connectivity  Navitgation   \n",
            "505299  2015  Volkswagen  jetta  SE PZEV w/Connectivity  Navitgation   \n",
            "505306  2015  Volkswagen  jetta  SE PZEV w/Connectivity  Navitgation   \n",
            "520461  2015  Volkswagen  jetta  SE PZEV w/Connectivity  Navitgation   \n",
            "528996  2015  Volkswagen  jetta  SE PZEV w/Connectivity  Navitgation   \n",
            "529009  2015  Volkswagen  jetta  SE PZEV w/Connectivity  Navitgation   \n",
            "529013  2015  Volkswagen  jetta  SE PZEV w/Connectivity  Navitgation   \n",
            "529622  2015  Volkswagen  jetta  SE PZEV w/Connectivity  Navitgation   \n",
            "548784  2015  Volkswagen  jetta  SE PZEV w/Connectivity  Navitgation   \n",
            "551222  2015  Volkswagen  jetta  SE PZEV w/Connectivity  Navitgation   \n",
            "554710  2015  Volkswagen  jetta  SE PZEV w/Connectivity  Navitgation   \n",
            "\n",
            "       transmission        vin              state  condition  odometer  color  \\\n",
            "408161        Sedan  automatic  3vwd17aj4fm201708  30.672365      46.0   4802   \n",
            "417835        Sedan  automatic  3vwd17aj2fm258506  30.672365       1.0   9410   \n",
            "421289        Sedan  automatic  3vwd17aj3fm276741  30.672365      46.0   1167   \n",
            "424161        Sedan  automatic  3vwd17aj2fm285365  30.672365       1.0   2172   \n",
            "427040        Sedan  automatic  3vwd17aj0fm227318  30.672365      41.0  14872   \n",
            "427043        Sedan  automatic  3vwd17aj6fm218641  30.672365      49.0  12655   \n",
            "434424        Sedan  automatic  3vwd17aj7fm223475  30.672365      46.0  15719   \n",
            "444501        Sedan  automatic  3vwd17aj5fm297123  30.672365       2.0   6388   \n",
            "453794        Sedan  automatic  3vwd17aj5fm219943  30.672365      44.0  16633   \n",
            "461597        Sedan  automatic  3vwd17aj9fm219766  30.672365      44.0  11034   \n",
            "461612        Sedan  automatic  3vwd17aj3fm259017  30.672365      46.0   2711   \n",
            "492484        sedan  automatic  3vwd17aj5fm206111  30.672365       2.0   6864   \n",
            "497008        sedan  automatic  3vwd17aj5fm273601  30.672365      28.0    339   \n",
            "497011        sedan  automatic  3vwd17aj5fm221322  30.672365      48.0  18384   \n",
            "499083        sedan  automatic  3vwd17aj5fm268964  30.672365       2.0   9887   \n",
            "501455        sedan  automatic  3vwd17aj6fm231972  30.672365      38.0   9837   \n",
            "505299        sedan  automatic  3vwd17aj7fm222388  30.672365      36.0  20379   \n",
            "505306        sedan  automatic  3vwd17aj7fm218440  30.672365      42.0  20627   \n",
            "520461        sedan  automatic  3vwd17ajxfm315938  30.672365       1.0    721   \n",
            "528996        sedan  automatic  3vwd17aj7fm229552  30.672365      38.0   6158   \n",
            "529009        sedan  automatic  3vwd17aj8fm298895  30.672365       2.0   2817   \n",
            "529013        sedan  automatic  3vwd17aj4fm236636  30.672365       5.0   5705   \n",
            "529622        sedan  automatic  3vwd17aj5fm225953  30.672365      41.0  18561   \n",
            "548784        sedan  automatic  3vwd17aj7fm326640  30.672365       2.0   2846   \n",
            "551222        sedan  automatic  3vwd17aj8fm239622  30.672365       2.0   9562   \n",
            "554710        sedan  automatic  3vwd17aj2fm261566  30.672365      48.0   5001   \n",
            "\n",
            "       interior seller           mmr  sellingprice saledate  \n",
            "408161   silver   gray  13769.377495       13200.0      NaN  \n",
            "417835    white   gray  13769.377495       13300.0      NaN  \n",
            "421289     blue  black  13769.377495       13200.0      NaN  \n",
            "424161     gray  black  13769.377495       14050.0      NaN  \n",
            "427040     gray  black  13769.377495       13700.0      NaN  \n",
            "427043      red  black  13769.377495       13850.0      NaN  \n",
            "434424     blue  black  13769.377495       13650.0      NaN  \n",
            "444501    white  black  13769.377495       13850.0      NaN  \n",
            "453794   silver  black  13769.377495       13600.0      NaN  \n",
            "461597    black  black  13769.377495       13900.0      NaN  \n",
            "461612    white  black  13769.377495       14250.0      NaN  \n",
            "492484     gray  black  13769.377495       14000.0      NaN  \n",
            "497008    black  black  13769.377495       14300.0      NaN  \n",
            "497011   silver  black  13769.377495       13550.0      NaN  \n",
            "499083      red  black  13769.377495       13900.0      NaN  \n",
            "501455      red  black  13769.377495       13500.0      NaN  \n",
            "505299   silver  black  13769.377495       13600.0      NaN  \n",
            "505306    white  black  13769.377495       13600.0      NaN  \n",
            "520461     blue   gray  13769.377495       14100.0      NaN  \n",
            "528996    black  black  13769.377495       13650.0      NaN  \n",
            "529009      red  black  13769.377495       13750.0      NaN  \n",
            "529013        —  black  13769.377495       13400.0      NaN  \n",
            "529622    black  black  13769.377495       13200.0      NaN  \n",
            "548784     blue  black  13769.377495       13600.0      NaN  \n",
            "551222   silver  black  13769.377495       13200.0      NaN  \n",
            "554710     blue   gray  13769.377495       13400.0      NaN  \n"
          ]
        }
      ]
    },
    {
      "cell_type": "code",
      "source": [
        "print(df_cleaned.saledate)"
      ],
      "metadata": {
        "colab": {
          "base_uri": "https://localhost:8080/"
        },
        "id": "fbn_vptC9ewj",
        "outputId": "1e66b2f3-6966-4ec0-d4c7-8ae691779b68"
      },
      "execution_count": 60,
      "outputs": [
        {
          "output_type": "stream",
          "name": "stdout",
          "text": [
            "0         16-12-2014\n",
            "1         16-12-2014\n",
            "2         14-01-2015\n",
            "3         28-01-2015\n",
            "4         18-12-2014\n",
            "             ...    \n",
            "558832    09-07-2015\n",
            "558833    08-07-2015\n",
            "558834    08-07-2015\n",
            "558835    08-07-2015\n",
            "558836    27-05-2015\n",
            "Name: saledate, Length: 558837, dtype: object\n"
          ]
        }
      ]
    },
    {
      "cell_type": "code",
      "source": [
        "df_cleaned.rename(columns=lambda x: x.strip().title().replace(\"\", \"\"), inplace=True)\n"
      ],
      "metadata": {
        "id": "7_0UvvUZ9noC"
      },
      "execution_count": 61,
      "outputs": []
    },
    {
      "cell_type": "code",
      "source": [
        "print(df_cleaned)"
      ],
      "metadata": {
        "colab": {
          "base_uri": "https://localhost:8080/"
        },
        "id": "7UhIG4_d9nkf",
        "outputId": "c399bbb6-ddbb-4dda-be8e-96f0e5a1cea5"
      },
      "execution_count": 62,
      "outputs": [
        {
          "output_type": "stream",
          "name": "stdout",
          "text": [
            "        Year    Make                Model         Trim       Body  \\\n",
            "0       2015     Kia              sorento           LX        SUV   \n",
            "1       2015     Kia              sorento           LX        SUV   \n",
            "2       2014     Bmw             3 series   328i SULEV      Sedan   \n",
            "3       2015   Volvo                  s60           T5      Sedan   \n",
            "4       2014     Bmw  6 series gran coupe         650i      Sedan   \n",
            "...      ...     ...                  ...          ...        ...   \n",
            "558832  2015     Kia                 k900       Luxury      Sedan   \n",
            "558833  2012     Ram                 2500  Power Wagon   Crew Cab   \n",
            "558834  2012     Bmw                   x5    xDrive35d        SUV   \n",
            "558835  2015  Nissan               altima        2.5 S      sedan   \n",
            "558836  2014    Ford                f-150          XLT  SuperCrew   \n",
            "\n",
            "       Transmission                Vin State  Condition  Odometer   Color  \\\n",
            "0         automatic  5xyktca69fg566472    ca        5.0   16639.0   white   \n",
            "1         automatic  5xyktca69fg561319    ca        5.0    9393.0   white   \n",
            "2         automatic  wba3c1c51ek116351    ca       45.0    1331.0    gray   \n",
            "3         automatic  yv1612tb4f1310987    ca       41.0   14282.0   white   \n",
            "4         automatic  wba6b2c57ed129731    ca       43.0    2641.0    gray   \n",
            "...             ...                ...   ...        ...       ...     ...   \n",
            "558832    automatic  knalw4d4xf6019304    in       45.0   18255.0  silver   \n",
            "558833    automatic  3c6td5et6cg112407    wa        5.0   54393.0   white   \n",
            "558834    automatic  5uxzw0c58cl668465    ca       48.0   50561.0   black   \n",
            "558835    automatic  1n4al3ap0fc216050    ga       38.0   16658.0   white   \n",
            "558836    automatic  1ftfw1et2eke87277    ca       34.0   15008.0    gray   \n",
            "\n",
            "       Interior                                             Seller      Mmr  \\\n",
            "0         black                            kia motors america  inc  20500.0   \n",
            "1         beige                            kia motors america  inc  20800.0   \n",
            "2         black             financial services remarketing (lease)  31900.0   \n",
            "3         black                            volvo na rep/world omni  27500.0   \n",
            "4         black             financial services remarketing (lease)  66000.0   \n",
            "...         ...                                                ...      ...   \n",
            "558832    black                                   avis corporation  35300.0   \n",
            "558833    black                                    i -5 uhlmann rv  30200.0   \n",
            "558834    black             financial services remarketing (lease)  29800.0   \n",
            "558835    black  enterprise vehicle exchange / tra / rental / t...  15100.0   \n",
            "558836     gray                   ford motor credit company llc pd  29600.0   \n",
            "\n",
            "        Sellingprice    Saledate  \n",
            "0            21500.0  16-12-2014  \n",
            "1            21500.0  16-12-2014  \n",
            "2            30000.0  14-01-2015  \n",
            "3            27750.0  28-01-2015  \n",
            "4            67000.0  18-12-2014  \n",
            "...              ...         ...  \n",
            "558832       33000.0  09-07-2015  \n",
            "558833       30800.0  08-07-2015  \n",
            "558834       34000.0  08-07-2015  \n",
            "558835       11100.0  08-07-2015  \n",
            "558836       26700.0  27-05-2015  \n",
            "\n",
            "[558837 rows x 16 columns]\n"
          ]
        }
      ]
    },
    {
      "cell_type": "code",
      "source": [
        "df_cleaned.to_csv(\"/content/cleaned_dataset.csv\", index=False)\n"
      ],
      "metadata": {
        "id": "6-vU6hhH-Hlk"
      },
      "execution_count": 63,
      "outputs": []
    },
    {
      "cell_type": "code",
      "source": [
        "print(df_cleaned.columns.tolist())\n"
      ],
      "metadata": {
        "id": "HCOsoP_xCtZ-",
        "colab": {
          "base_uri": "https://localhost:8080/"
        },
        "outputId": "68b99b3d-a390-4192-aa2d-cbe379623126"
      },
      "execution_count": 64,
      "outputs": [
        {
          "output_type": "stream",
          "name": "stdout",
          "text": [
            "['Year', 'Make', 'Model', 'Trim', 'Body', 'Transmission', 'Vin', 'State', 'Condition', 'Odometer', 'Color', 'Interior', 'Seller', 'Mmr', 'Sellingprice', 'Saledate']\n"
          ]
        }
      ]
    }
  ]
}